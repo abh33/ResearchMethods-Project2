{
 "cells": [
  {
   "cell_type": "code",
   "execution_count": 1,
   "metadata": {},
   "outputs": [],
   "source": [
    "import xlrd\n",
    "import numpy as np\n",
    "import pandas as pd\n",
    "import matplotlib\n",
    "import random"
   ]
  },
  {
   "cell_type": "code",
   "execution_count": 2,
   "metadata": {},
   "outputs": [],
   "source": [
    "def select_random_sheets(num_sheets, total_sheets, with_replacement):\n",
    "    sequence = range(1,total_sheets+1)\n",
    "    if with_replacement == True:\n",
    "        sample = np.random.choice(sequence, num_sheets)\n",
    "    else:\n",
    "        sample = random.sample(sequence, num_sheets)\n",
    "    return sample\n",
    "\n",
    "def consolidate_sample_sheets(sample):\n",
    "    filename = \"2. DEBE_Mock data.xlsx\"\n",
    "    sheetname = \"Student \" + str(sample[0])\n",
    "#     print(sample)\n",
    "#     print(sheetname)\n",
    "    df = pd.read_excel(filename, sheet_name=sheetname, usecols='M:Q')\n",
    "    for index in range(1, len(sample)):\n",
    "        sheetname = \"Student \" + str(sample[index])\n",
    "#         print(sheetname)\n",
    "        df_temp = pd.read_excel(filename, sheet_name=sheetname, usecols='M:Q')\n",
    "        df = df + df_temp\n",
    "#     print(sample)\n",
    "    df['Unnamed: 12'] = df['Unnamed: 12']//len(sample)\n",
    "    return df\n",
    "\n",
    "def running_average_two_rows(data_frame):\n",
    "    lastdict = {'Unnamed: 12':[48], 'Difficult.2':[0], 'Easy.2':[0], 'Boring.2':[0], 'Engaging.2':[0]   }\n",
    "    last_frame = pd.DataFrame(lastdict)\n",
    "    data_frame = pd.concat([data_frame, last_frame], ignore_index = True)\n",
    "    for index in range(len(data_frame)-1):\n",
    "        data_frame.iloc[index] = ((data_frame.iloc[index] + data_frame.iloc[index+1]))/2\n",
    "        data_frame.iloc[index] = (data_frame.iloc[index]).apply(np.ceil)\n",
    "    data_frame['Unnamed: 12'] = data_frame['Unnamed: 12'] -1\n",
    "    data_frame = data_frame.drop(len(data_frame)-1)\n",
    "    data_frame['Unnamed: 12'][47] = data_frame['Unnamed: 12'][47] + 1   \n",
    "    return data_frame\n",
    "\n",
    "def calculate_net(data_frame):\n",
    "    dict_temp = {'Timestamp': list(range(1, 49)), 'Net Engagement':[0]*48, 'Net Difficulty':[0]*48}\n",
    "    net_value_data_frame = pd.DataFrame(dict_temp)\n",
    "    net_value_data_frame['Net Engagement'] = data_frame['Engaging.2'] - data_frame['Boring.2']\n",
    "    net_value_data_frame['Net Difficulty'] = data_frame['Difficult.2'] - data_frame['Easy.2']\n",
    "    return net_value_data_frame\n",
    "\n",
    "def calculate_net_percentages(net_value_data_frame, number_of_sheets):\n",
    "    net_value_data_frame['Net Engagement'] = round((net_value_data_frame['Net Engagement']/number_of_sheets)*100)\n",
    "    net_value_data_frame['Net Difficulty'] = round((net_value_data_frame['Net Difficulty']/number_of_sheets)*100)\n",
    "    net_value_data_frame['Net Engagement'] = net_value_data_frame['Net Engagement'].astype('int')\n",
    "    net_value_data_frame['Net Difficulty'] = net_value_data_frame['Net Difficulty'].astype('int')\n",
    "    return net_value_data_frame\n",
    "\n",
    "def calculateSSE(net_value_percent_population, net_value_percent_sample):\n",
    "    dict_temp = {'Timestamp': list(range(1, 49)), 'Net Engagement':[0]*48, 'Net Difficulty':[0]*48}\n",
    "    error_data_frame = pd.DataFrame(dict_temp)\n",
    "    error_data_frame['Net Engagement'] = net_value_percent_population['Net Engagement'] - net_value_percent_sample['Net Engagement']\n",
    "    error_data_frame['Net Difficulty'] = net_value_percent_population['Net Difficulty'] - net_value_percent_sample['Net Difficulty']\n",
    "#     print(error_data_frame)\n",
    "    error_data_frame['Net Engagement'] = error_data_frame['Net Engagement']**2\n",
    "    error_data_frame['Net Difficulty'] = error_data_frame['Net Difficulty']**2\n",
    "#     print(error_data_frame)\n",
    "    net_engagement_sse = error_data_frame['Net Engagement'].sum()\n",
    "    net_difficulty_sse = error_data_frame['Net Difficulty'].sum()\n",
    "#     print(net_engagement_sse, net_difficulty_sse)\n",
    "    return net_engagement_sse, net_difficulty_sse\n",
    "\n",
    "def calculate_average_sse(sample_number_of_sheets, total_number_of_students, net_values_percent):\n",
    "    samples_list = select_random_sheets(num_sheets = sample_number_of_sheets, total_sheets = total_number_of_students, with_replacement=False)\n",
    "    df_consolidated_sample =consolidate_sample_sheets(samples_list)\n",
    "    df_consolidated_sample_averaged = running_average_two_rows(df_consolidated_sample)\n",
    "    net_values_sample = calculate_net(df_consolidated_sample_averaged)\n",
    "    net_values_sample_percent = calculate_net_percentages(net_values_sample, sample_number_of_sheets)\n",
    "    net_engagement_sse, net_difficulty_sse = calculateSSE(net_values_percent, net_values_sample_percent)\n",
    "    return net_engagement_sse, net_difficulty_sse\n",
    "    \n",
    "    "
   ]
  },
  {
   "cell_type": "code",
   "execution_count": 3,
   "metadata": {},
   "outputs": [
    {
     "data": {
      "text/plain": [
       "<AxesSubplot:xlabel='Timestamp'>"
      ]
     },
     "execution_count": 3,
     "metadata": {},
     "output_type": "execute_result"
    },
    {
     "data": {
      "image/png": "[encoded data removed]",
      "text/plain": [
       "<Figure size 432x288 with 1 Axes>"
      ]
     },
     "metadata": {
      "needs_background": "light"
     },
     "output_type": "display_data"
    }
   ],
   "source": [
    "filename = \"2. DEBE_Mock data.xlsx\"\n",
    "\n",
    "total_number_of_students = 42\n",
    "sample_number_of_students = 42\n",
    "\n",
    "samples_list = select_random_sheets(num_sheets = sample_number_of_students, total_sheets = total_number_of_students, with_replacement=False)\n",
    "df_consolidated =consolidate_sample_sheets(samples_list)\n",
    "df_consolidated_averaged = running_average_two_rows(df_consolidated)\n",
    "net_values = calculate_net(df_consolidated_averaged)\n",
    "net_values_percent = calculate_net_percentages(net_values, sample_number_of_students)\n",
    "net_values_percent.plot('Timestamp', ['Net Engagement', 'Net Difficulty'])                  \n"
   ]
  },
  {
   "cell_type": "code",
   "execution_count": 4,
   "metadata": {},
   "outputs": [
    {
     "name": "stdout",
     "output_type": "stream",
     "text": [
      "Empty DataFrame\n",
      "Columns: [number_of_samples, net_engagement_sse, net_difficulty_sse]\n",
      "Index: []\n"
     ]
    }
   ],
   "source": [
    " ##SSE_data_frame = pd.DataFrame({'Timestamp': list(range(10, 43)), 'Error Engagement':[0]*33, 'Error Difficulty':[0]*33})\n",
    "    \n",
    "SSE_data_frame = pd.DataFrame(columns=('number_of_samples', 'net_engagement_sse', 'net_difficulty_sse'))\n",
    "#SSE_data_frame.loc[len(SSE_data_frame.index)] = [10, 10, 10]\n",
    "#SSE_data_frame.loc[len(SSE_data_frame.index)] = [10, 10, 10]\n",
    "print(SSE_data_frame)\n",
    "\n",
    "SSE_average = pd.DataFrame(columns=('number_of_samples', 'net_engagement_sse', 'net_difficulty_sse'))"
   ]
  },
  {
   "cell_type": "code",
   "execution_count": 5,
   "metadata": {},
   "outputs": [
    {
     "name": "stdout",
     "output_type": "stream",
     "text": [
      "2831 1726\n",
      "2651 2286\n",
      "2611 1786\n",
      "2971 2366\n",
      "1891 1686\n",
      "3111 2986\n",
      "3171 2526\n",
      "1971 2786\n",
      "3391 2006\n",
      "3671 1786\n",
      "2827.0 2194.0\n",
      "1415 1349\n",
      "2076 1797\n",
      "1700 1467\n",
      "2232 1332\n",
      "1634 2528\n",
      "2320 1300\n",
      "2468 1011\n",
      "987 1364\n",
      "1221 1513\n",
      "1808 1332\n",
      "1786.1 1499.3\n",
      "871 1154\n",
      "656 419\n",
      "994 746\n",
      "847 1090\n",
      "886 1104\n",
      "967 830\n",
      "811 647\n",
      "1183 755\n",
      "937 1117\n",
      "656 770\n",
      "880.8 863.2\n",
      "641 872\n",
      "928 434\n",
      "1180 583\n",
      "1258 714\n",
      "815 627\n",
      "698 724\n",
      "611 1193\n",
      "452 759\n",
      "952 551\n",
      "797 812\n",
      "833.2 726.9\n",
      "591 547\n",
      "648 440\n",
      "623 440\n",
      "365 495\n",
      "701 504\n",
      "664 508\n",
      "572 866\n",
      "443 774\n",
      "921 442\n",
      "333 512\n",
      "586.1 552.8\n",
      "591 598\n",
      "423 406\n",
      "471 662\n",
      "607 350\n",
      "631 350\n",
      "319 470\n",
      "439 342\n",
      "407 382\n",
      "535 326\n",
      "431 494\n",
      "485.4 438.0\n",
      "298 230\n",
      "340 351\n",
      "341 351\n",
      "357 318\n",
      "294 350\n",
      "462 319\n",
      "290 232\n",
      "378 378\n",
      "403 354\n",
      "313 359\n",
      "347.6 324.2\n",
      "211 183\n",
      "177 283\n",
      "169 272\n",
      "279 213\n",
      "181 321\n",
      "301 161\n",
      "223 197\n",
      "150 205\n",
      "233 180\n",
      "214 245\n",
      "213.8 226.0\n",
      "124 185\n",
      "178 173\n",
      "262 170\n",
      "286 113\n",
      "130 173\n",
      "139 167\n",
      "112 125\n",
      "184 134\n",
      "154 212\n",
      "169 158\n",
      "173.8 161.0\n",
      "53 104\n",
      "123 65\n",
      "79 130\n",
      "118 103\n",
      "110 122\n",
      "108 74\n",
      "112 73\n",
      "77 106\n",
      "252 119\n",
      "147 113\n",
      "117.9 100.9\n",
      "18 65\n",
      "43 21\n",
      "95 52\n",
      "25 77\n",
      "27 29\n",
      "30 55\n",
      "56 40\n",
      "31 40\n",
      "9 17\n",
      "22 44\n",
      "35.6 44.0\n"
     ]
    }
   ],
   "source": [
    "total_number_of_students = 42\n",
    "\n",
    "for sample in range(10,43, 3):\n",
    "    sample_number_of_students = sample\n",
    "    avg_engagement_sse, avg_difficulty_sse = 0, 0\n",
    "    for i in range(10):    \n",
    "        net_e_sse, net_d_sse = calculate_average_sse(sample_number_of_students, total_number_of_students, net_values_percent)\n",
    "        avg_engagement_sse = avg_engagement_sse + net_e_sse\n",
    "        avg_difficulty_sse = avg_difficulty_sse + net_d_sse\n",
    "        print(net_e_sse, net_d_sse)\n",
    "        SSE_data_frame.loc[len(SSE_data_frame.index)] = [sample_number_of_students, net_e_sse, net_d_sse]\n",
    "    print(avg_engagement_sse/10, avg_difficulty_sse/10)\n",
    "    SSE_average.loc[len(SSE_average.index)] = [sample_number_of_students, avg_engagement_sse/10, avg_difficulty_sse/10]"
   ]
  },
  {
   "cell_type": "code",
   "execution_count": 6,
   "metadata": {},
   "outputs": [
    {
     "name": "stdout",
     "output_type": "stream",
     "text": [
      "    number_of_samples net_engagement_sse net_difficulty_sse\n",
      "0                  10               2831               1726\n",
      "1                  10               2651               2286\n",
      "2                  10               2611               1786\n",
      "3                  10               2971               2366\n",
      "4                  10               1891               1686\n",
      "..                ...                ...                ...\n",
      "105                40                 30                 55\n",
      "106                40                 56                 40\n",
      "107                40                 31                 40\n",
      "108                40                  9                 17\n",
      "109                40                 22                 44\n",
      "\n",
      "[110 rows x 3 columns]\n",
      "    number_of_samples  net_engagement_sse  net_difficulty_sse\n",
      "0                10.0              2827.0              2194.0\n",
      "1                13.0              1786.1              1499.3\n",
      "2                16.0               880.8               863.2\n",
      "3                19.0               833.2               726.9\n",
      "4                22.0               586.1               552.8\n",
      "5                25.0               485.4               438.0\n",
      "6                28.0               347.6               324.2\n",
      "7                31.0               213.8               226.0\n",
      "8                34.0               173.8               161.0\n",
      "9                37.0               117.9               100.9\n",
      "10               40.0                35.6                44.0\n"
     ]
    },
    {
     "data": {
      "text/plain": [
       "<AxesSubplot:xlabel='number_of_samples', ylabel='net_engagement_sse'>"
      ]
     },
     "execution_count": 6,
     "metadata": {},
     "output_type": "execute_result"
    },
    {
     "data": {
      "image/png": "[encoded data removed]",
      "text/plain": [
       "<Figure size 432x288 with 1 Axes>"
      ]
     },
     "metadata": {
      "needs_background": "light"
     },
     "output_type": "display_data"
    }
   ],
   "source": [
    "print(SSE_data_frame)\n",
    "print(SSE_average)\n",
    "SSE_data_frame.plot.scatter(x = 'number_of_samples', y = 'net_engagement_sse')"
   ]
  },
  {
   "cell_type": "code",
   "execution_count": 7,
   "metadata": {},
   "outputs": [
    {
     "data": {
      "text/plain": [
       "<AxesSubplot:xlabel='number_of_samples', ylabel='net_engagement_sse'>"
      ]
     },
     "execution_count": 7,
     "metadata": {},
     "output_type": "execute_result"
    },
    {
     "data": {
      "image/png": "[encoded data removed]",
      "text/plain": [
       "<Figure size 432x288 with 1 Axes>"
      ]
     },
     "metadata": {
      "needs_background": "light"
     },
     "output_type": "display_data"
    }
   ],
   "source": [
    "SSE_average.plot.scatter(x = 'number_of_samples', y = 'net_engagement_sse')"
   ]
  },
  {
   "cell_type": "code",
   "execution_count": 8,
   "metadata": {},
   "outputs": [
    {
     "data": {
      "text/plain": [
       "<AxesSubplot:xlabel='number_of_samples', ylabel='net_difficulty_sse'>"
      ]
     },
     "execution_count": 8,
     "metadata": {},
     "output_type": "execute_result"
    },
    {
     "data": {
      "image/png": "[encoded data removed]",
      "text/plain": [
       "<Figure size 432x288 with 1 Axes>"
      ]
     },
     "metadata": {
      "needs_background": "light"
     },
     "output_type": "display_data"
    }
   ],
   "source": [
    "SSE_data_frame.plot.scatter(x = 'number_of_samples', y = 'net_difficulty_sse')"
   ]
  },
  {
   "cell_type": "code",
   "execution_count": 9,
   "metadata": {},
   "outputs": [
    {
     "data": {
      "text/plain": [
       "<AxesSubplot:xlabel='number_of_samples', ylabel='net_difficulty_sse'>"
      ]
     },
     "execution_count": 9,
     "metadata": {},
     "output_type": "execute_result"
    },
    {
     "data": {
      "image/png": "[encoded data removed]",
      "text/plain": [
       "<Figure size 432x288 with 1 Axes>"
      ]
     },
     "metadata": {
      "needs_background": "light"
     },
     "output_type": "display_data"
    }
   ],
   "source": [
    "SSE_average.plot.scatter(x = 'number_of_samples', y = 'net_difficulty_sse')"
   ]
  },
  {
   "cell_type": "code",
   "execution_count": null,
   "metadata": {},
   "outputs": [],
   "source": []
  }
 ],
 "metadata": {
  "kernelspec": {
   "display_name": "NB_2670",
   "language": "python",
   "name": "nb_2670"
  },
  "language_info": {
   "codemirror_mode": {
    "name": "ipython",
    "version": 3
   },
   "file_extension": ".py",
   "mimetype": "text/x-python",
   "name": "python",
   "nbconvert_exporter": "python",
   "pygments_lexer": "ipython3",
   "version": "3.8.6"
  }
 },
 "nbformat": 4,
 "nbformat_minor": 4
}
